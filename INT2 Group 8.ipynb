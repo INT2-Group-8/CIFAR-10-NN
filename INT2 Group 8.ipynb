{
  "nbformat": 4,
  "nbformat_minor": 0,
  "metadata": {
    "colab": {
      "name": "INT2 Group 8 NN.ipynb",
      "provenance": [],
      "collapsed_sections": []
    },
    "kernelspec": {
      "name": "python3",
      "display_name": "Python 3"
    },
    "language_info": {
      "name": "python"
    }
  },
  "cells": [
    {
      "cell_type": "code",
      "execution_count": 3,
      "metadata": {
        "id": "5xDiCg81Yz4t",
        "colab": {
          "base_uri": "https://localhost:8080/",
          "height": 504
        },
        "outputId": "660490f0-bc39-4112-8f79-e8ad48c63c07"
      },
      "outputs": [
        {
          "output_type": "stream",
          "name": "stdout",
          "text": [
            "Epoch 1/10\n",
            "1563/1563 [==============================] - 10s 6ms/step - loss: 1.8887 - accuracy: 0.3224\n",
            "Epoch 2/10\n",
            "1563/1563 [==============================] - 9s 6ms/step - loss: 1.7456 - accuracy: 0.3763\n",
            "Epoch 3/10\n",
            "1563/1563 [==============================] - 9s 6ms/step - loss: 1.6925 - accuracy: 0.3941\n",
            "Epoch 4/10\n",
            "1563/1563 [==============================] - 9s 6ms/step - loss: 1.6631 - accuracy: 0.4054\n",
            "Epoch 5/10\n",
            "1563/1563 [==============================] - 9s 6ms/step - loss: 1.6442 - accuracy: 0.4145\n",
            "Epoch 6/10\n",
            "1563/1563 [==============================] - 9s 6ms/step - loss: 1.6210 - accuracy: 0.4211\n",
            "Epoch 7/10\n",
            "1563/1563 [==============================] - 9s 6ms/step - loss: 1.6129 - accuracy: 0.4225\n",
            "Epoch 8/10\n",
            "1563/1563 [==============================] - 9s 6ms/step - loss: 1.5966 - accuracy: 0.4298\n",
            "Epoch 9/10\n",
            "1563/1563 [==============================] - 9s 6ms/step - loss: 1.5858 - accuracy: 0.4351\n",
            "Epoch 10/10\n",
            "1563/1563 [==============================] - 9s 5ms/step - loss: 1.5777 - accuracy: 0.4369\n",
            "\n",
            "313/313 [==============================] - 1s 3ms/step - loss: 1.6000 - accuracy: 0.4279\n",
            "Overall Model Accuracy: 0.4278999865055084\n"
          ]
        },
        {
          "output_type": "execute_result",
          "data": {
            "text/plain": [
              "'\\n# Saving the model\\nmodel.save(\"digitNeuralNetwork.h5\")\\n\\n# Using the model to predict the entire set and output some of those predictions\\npredictions = model.predict(testImages)\\n\\nfor i in range(5):\\n    prediction = np.argmax(predictions[i])\\n\\n    if str(prediction) == str(testLabels[i]):\\n        print(\"Correct prediction!\")\\n    else:\\n        print(\"Incorrect prediction\")\\n\\n    plt.imshow(testImages[i], cmap = plt.cm.binary)\\n    plt.xlabel(\"Actual: \" + str(testLabels[i]), fontsize = \"large\")\\n    plt.title(\"Prediction: \" + str(prediction) + \" with a confidence of: \" + str(round(max(predictions[i]) * 100, 4)) + \"%\")\\n    plt.show()\\n\\n\\n# To open the saved model:\\n### model = keras.models.load_model(\"digitNeuralNetwork.h5\")\\n'"
            ],
            "application/vnd.google.colaboratory.intrinsic+json": {
              "type": "string"
            }
          },
          "metadata": {},
          "execution_count": 3
        }
      ],
      "source": [
        "import tensorflow as tf\n",
        "import matplotlib.pyplot as plt\n",
        "import numpy as np\n",
        "from tensorflow import keras\n",
        "\n",
        "# Importing the MNIST hand-written digit data set \n",
        "(trainImages, trainLabels), (testImages, testLabels) = keras.datasets.cifar10.load_data()\n",
        "\n",
        "# Dividing by 255.0 in order to change pixel values from 0 - 255 to 0 - 1 as it ...\n",
        "# makes the data easier to work with\n",
        "trainImages = trainImages / 255.0\n",
        "testImages = testImages / 255.0\n",
        "\n",
        "# Creating the model\n",
        "model = keras.Sequential([\n",
        "    keras.layers.Flatten(input_shape = (32,32,3)),\n",
        "    keras.layers.Dense(156, activation = \"relu\"),\n",
        "    keras.layers.Dense(10, activation = \"softmax\")\n",
        "])\n",
        "\n",
        "model.compile(optimizer = \"adam\", loss = \"sparse_categorical_crossentropy\", metrics = [\"accuracy\"])\n",
        "\n",
        "# Training the model\n",
        "model.fit(trainImages, trainLabels, epochs = 10)\n",
        "\n",
        "# Testing the accuracy of the model\n",
        "print()\n",
        "testLoss, testAcc = model.evaluate(testImages, testLabels)\n",
        "print(\"Overall Model Accuracy:\", testAcc)\n",
        "\n",
        "\"\"\"\n",
        "# Saving the model\n",
        "model.save(\"digitNeuralNetwork.h5\")\n",
        "\n",
        "# Using the model to predict the entire set and output some of those predictions\n",
        "predictions = model.predict(testImages)\n",
        "\n",
        "for i in range(5):\n",
        "    prediction = np.argmax(predictions[i])\n",
        "\n",
        "    if str(prediction) == str(testLabels[i]):\n",
        "        print(\"Correct prediction!\")\n",
        "    else:\n",
        "        print(\"Incorrect prediction\")\n",
        "\n",
        "    plt.imshow(testImages[i], cmap = plt.cm.binary)\n",
        "    plt.xlabel(\"Actual: \" + str(testLabels[i]), fontsize = \"large\")\n",
        "    plt.title(\"Prediction: \" + str(prediction) + \" with a confidence of: \" + str(round(max(predictions[i]) * 100, 4)) + \"%\")\n",
        "    plt.show()\n",
        "\n",
        "\n",
        "# To open the saved model:\n",
        "### model = keras.models.load_model(\"digitNeuralNetwork.h5\")\n",
        "\"\"\""
      ]
    },
    {
      "cell_type": "code",
      "source": [
        ""
      ],
      "metadata": {
        "id": "_h2a8cXcmPFt"
      },
      "execution_count": null,
      "outputs": []
    }
  ]
}