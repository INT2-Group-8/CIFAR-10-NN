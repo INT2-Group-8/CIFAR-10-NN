{
  "nbformat": 4,
  "nbformat_minor": 0,
  "metadata": {
    "colab": {
      "name": "Untitled0.ipynb",
      "provenance": [],
      "authorship_tag": "ABX9TyMfYuWxTeV/oxb1w1iUQRgq",
      "include_colab_link": true
    },
    "kernelspec": {
      "name": "python3",
      "display_name": "Python 3"
    },
    "language_info": {
      "name": "python"
    }
  },
  "cells": [
    {
      "cell_type": "markdown",
      "metadata": {
        "id": "view-in-github",
        "colab_type": "text"
      },
      "source": [
        "<a href=\"https://colab.research.google.com/github/INT2-Group-8/CIFAR-10-NN/blob/main/INT2%20Group%208.ipynb\" target=\"_parent\"><img src=\"https://colab.research.google.com/assets/colab-badge.svg\" alt=\"Open In Colab\"/></a>"
      ]
    },
    {
      "cell_type": "code",
      "execution_count": null,
      "metadata": {
        "colab": {
          "base_uri": "https://localhost:8080/"
        },
        "id": "U-ciwKkcnBiG",
        "outputId": "536904cf-2b44-4f50-f239-df8bd71da129"
      },
      "outputs": [
        {
          "output_type": "stream",
          "name": "stdout",
          "text": [
            "Downloading data from https://storage.googleapis.com/tensorflow/tf-keras-datasets/mnist.npz\n",
            "11493376/11490434 [==============================] - 0s 0us/step\n",
            "11501568/11490434 [==============================] - 0s 0us/step\n",
            "Epoch 1/5\n",
            "1013/1875 [===============>..............] - ETA: 5s - loss: 0.3297 - accuracy: 0.9072"
          ]
        }
      ],
      "source": [
        "import tensorflow as tf\n",
        "import matplotlib.pyplot as plt\n",
        "import numpy as np\n",
        "from tensorflow import keras\n",
        "\n",
        "# Importing the MNIST hand-written digit data set \n",
        "(trainImages, trainLabels), (testImages, testLabels) = keras.datasets.mnist.load_data(path = \"mnist.npz\")\n",
        "\n",
        "# Dividing by 255.0 in order to change pixel values from 0 - 255 to 0 - 1 as it ...\n",
        "# makes the data easier to work with\n",
        "trainImages = trainImages / 255.0\n",
        "testImages = testImages / 255.0\n",
        "\n",
        "# Creating the model\n",
        "model = keras.Sequential([\n",
        "    keras.layers.Flatten(input_shape = (28,28)),\n",
        "    keras.layers.Dense(156, activation = \"relu\"),\n",
        "    keras.layers.Dense(10, activation = \"softmax\")\n",
        "])\n",
        "\n",
        "model.compile(optimizer = \"adam\", loss = \"sparse_categorical_crossentropy\", metrics = [\"accuracy\"])\n",
        "\n",
        "# Training the model\n",
        "model.fit(trainImages, trainLabels, epochs = 5)\n",
        "\n",
        "# Testing the accuracy of the model\n",
        "print()\n",
        "testLoss, testAcc = model.evaluate(testImages, testLabels)\n",
        "print(\"Overall Model Accuracy:\", testAcc)\n",
        "\n",
        "# Saving the model\n",
        "model.save(\"digitNeuralNetwork.h5\")\n",
        "\n",
        "# Using the model to predict the entire set and output some of those predictions\n",
        "predictions = model.predict(testImages)\n",
        "\n",
        "for i in range(5):\n",
        "    prediction = np.argmax(predictions[i])\n",
        "\n",
        "    if str(prediction) == str(testLabels[i]):\n",
        "        print(\"Correct prediction!\")\n",
        "    else:\n",
        "        print(\"Incorrect prediction\")\n",
        "\n",
        "    plt.imshow(testImages[i], cmap = plt.cm.binary)\n",
        "    plt.xlabel(\"Actual: \" + str(testLabels[i]), fontsize = \"large\")\n",
        "    plt.title(\"Prediction: \" + str(prediction) + \" with a confidence of: \" + str(round(max(predictions[i]) * 100, 4)) + \"%\")\n",
        "    plt.show()\n",
        "\n",
        "\n",
        "# To open the saved model:\n",
        "### model = keras.models.load_model(\"digitNeuralNetwork.h5\")"
      ]
    }
  ]
}